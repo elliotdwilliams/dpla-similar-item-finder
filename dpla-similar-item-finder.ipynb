{
 "cells": [
  {
   "cell_type": "markdown",
   "id": "8b44f170",
   "metadata": {},
   "source": [
    "# DPLA similar-item-finder 🕵️\n",
    "\n",
    "I wanted to play around with the idea of making connections between items from different providers in DPLA.  Because Texas currently has two pathways to DPLA, I wanted to try to show the connections between the collections from each partner, and experiment with new kinds of serendipitous discovery in DPLA.  What if there was a way to take an item from one DPLA partner (like the Texas Digital Library) and find similar items from another partner (such as the Portal to Texas History)?\n",
    "\n",
    "This script uses the DPLA API to search for possibly similar items.  It asks for the ID for an item in DPLA, selects a random subject from that item, and then uses that subject term to search for possibly similar items.  I've scoped it to search specifically for items from the Portal to Texas History, but you can easily change that to another DPLA partner.\n",
    "\n",
    "It will return three randomly selected items, and also give you a link to see more in the DPLA portal."
   ]
  },
  {
   "cell_type": "code",
   "execution_count": 1,
   "id": "7e1e0054",
   "metadata": {},
   "outputs": [
    {
     "name": "stdout",
     "output_type": "stream",
     "text": [
      "Defaulting to user installation because normal site-packages is not writeable\n",
      "Requirement already satisfied: dpla in /Users/elliotwilliams/Library/Python/3.9/lib/python/site-packages (0.4)\n",
      "Requirement already satisfied: requests in /opt/homebrew/Cellar/jupyterlab/3.2.5/libexec/lib/python3.9/site-packages (from dpla) (2.26.0)\n",
      "Requirement already satisfied: urllib3<1.27,>=1.21.1 in /opt/homebrew/Cellar/jupyterlab/3.2.5/libexec/lib/python3.9/site-packages (from requests->dpla) (1.26.7)\n",
      "Requirement already satisfied: certifi>=2017.4.17 in /opt/homebrew/Cellar/jupyterlab/3.2.5/libexec/lib/python3.9/site-packages (from requests->dpla) (2021.10.8)\n",
      "Requirement already satisfied: charset_normalizer~=2.0.0 in /opt/homebrew/Cellar/jupyterlab/3.2.5/libexec/lib/python3.9/site-packages (from requests->dpla) (2.0.9)\n",
      "Requirement already satisfied: idna<4,>=2.5 in /opt/homebrew/Cellar/jupyterlab/3.2.5/libexec/lib/python3.9/site-packages (from requests->dpla) (3.3)\n",
      "\u001b[33mWARNING: Value for scheme.platlib does not match. Please report this to <https://github.com/pypa/pip/issues/10151>\n",
      "distutils: /Users/elliotwilliams/Library/Python/3.9/lib/python/site-packages\n",
      "sysconfig: /Users/elliotwilliams/Library/Python/3.9/lib/python3.9/site-packages\u001b[0m\n",
      "\u001b[33mWARNING: Value for scheme.purelib does not match. Please report this to <https://github.com/pypa/pip/issues/10151>\n",
      "distutils: /Users/elliotwilliams/Library/Python/3.9/lib/python/site-packages\n",
      "sysconfig: /Users/elliotwilliams/Library/Python/3.9/lib/python3.9/site-packages\u001b[0m\n",
      "\u001b[33mWARNING: Additional context:\n",
      "user = True\n",
      "home = None\n",
      "root = None\n",
      "prefix = None\u001b[0m\n"
     ]
    }
   ],
   "source": [
    "#import some packages we'll need\n",
    "import random\n",
    "from IPython import display\n",
    "\n",
    "import sys\n",
    "!{sys.executable} -m pip install dpla\n",
    "\n",
    "from dpla.api import DPLA"
   ]
  },
  {
   "cell_type": "code",
   "execution_count": 2,
   "id": "3b4c10c0",
   "metadata": {},
   "outputs": [],
   "source": [
    "#create DPLA object for querying API using API key\n",
    "dpla = DPLA('9e772db07b96bf5971582a9e95d873ef')"
   ]
  },
  {
   "cell_type": "markdown",
   "id": "620dac31",
   "metadata": {},
   "source": [
    "The next step will ask you for the DPLA item id for the item you'd like to start with.  The DPLA id can be found in the url of an item in DPLA.  For example, for the item 'https://dp.la/item/1894f57e382d6c0c3e9e92ae302ef319', the id is '1894f57e382d6c0c3e9e92ae302ef319'."
   ]
  },
  {
   "cell_type": "code",
   "execution_count": 3,
   "id": "168dc332",
   "metadata": {},
   "outputs": [
    {
     "name": "stdout",
     "output_type": "stream",
     "text": [
      "DPLA item ID: 0637e203dab5f450dc3ee529b1468b56\n"
     ]
    }
   ],
   "source": [
    "#get DPLA id from user input\n",
    "dplaid = input(\"DPLA item ID: \")"
   ]
  },
  {
   "cell_type": "code",
   "execution_count": 4,
   "id": "099a4f55",
   "metadata": {},
   "outputs": [
    {
     "name": "stdout",
     "output_type": "stream",
     "text": [
      "['Young ladies surround a piano at the University of Tampa']\n"
     ]
    }
   ],
   "source": [
    "result = dpla.fetch_by_id([dplaid])\n",
    "\n",
    "#print item title, to confirm that request worked\n",
    "print(result.items[0][\"sourceResource\"][\"title\"])"
   ]
  },
  {
   "cell_type": "markdown",
   "id": "353d00aa",
   "metadata": {},
   "source": [
    "Okay, now we get to the good stuff! The next step is going to randomly extract one of the subjects from this item to use as a search query for similar items."
   ]
  },
  {
   "cell_type": "code",
   "execution_count": 5,
   "id": "b4195189",
   "metadata": {},
   "outputs": [
    {
     "name": "stdout",
     "output_type": "stream",
     "text": [
      "Searching for 'Students'...\n"
     ]
    }
   ],
   "source": [
    "#create new object containing all of the subjects from fetched item\n",
    "subjects = result.items[0][\"sourceResource\"][\"subject\"]\n",
    "\n",
    "#get random integer within the number of subjects in record\n",
    "randA = random.randint(0,(len(subjects)-1))\n",
    "\n",
    "#use random integer to get subject term corresponding to it\n",
    "random_subject = subjects[randA][\"name\"]\n",
    "print(\"Searching for \\'\"+random_subject+\"\\'...\")"
   ]
  },
  {
   "cell_type": "markdown",
   "id": "74156056",
   "metadata": {},
   "source": [
    "Now, we're ready to search for similar items. The next cell will take the subject we selected above and search DPLA for items matching that subject that were contributed by the Portal to Texas History."
   ]
  },
  {
   "cell_type": "code",
   "execution_count": 6,
   "id": "d9daea79",
   "metadata": {},
   "outputs": [
    {
     "name": "stdout",
     "output_type": "stream",
     "text": [
      "Results found: 22399\n"
     ]
    }
   ],
   "source": [
    "#query DPLA API for items matching the random subject selected\n",
    "fields = {\"provider\" : \"Portal to Texas History\"}\n",
    "result2 = dpla.search(random_subject, searchFields=fields, page_size=100)\n",
    "\n",
    "print(\"Results found: \"+str(result2.count))"
   ]
  },
  {
   "cell_type": "markdown",
   "id": "f30d64d2",
   "metadata": {},
   "source": [
    "Now that we've queried the DPLA API, we're going to extract three random items from the results, and see what we found.\n",
    "(We only requested the first 100 items in the results, so if there are more than that, you'll need to go to DPLA to view the rest.)"
   ]
  },
  {
   "cell_type": "code",
   "execution_count": 7,
   "id": "63e880b4",
   "metadata": {},
   "outputs": [
    {
     "name": "stdout",
     "output_type": "stream",
     "text": [
      "Here are some similar items about 'Students':\n",
      "'Students being filmed'\n",
      "[{'scheme': 'http://id.loc.gov/authorities#conceptscheme'}, {}, {}, {}, {}, {}, {}, {}, {}, {}]\n",
      "UNT Libraries Special Collections\n",
      "https://dp.la/item/028e2a44165e6f69315a09953c489b12\n",
      "\n",
      "'Johnathan helping students'\n",
      "[{}, {}, {}, {}, {}, {}, {}, {}, {}, {}, {}, {}, {}, {}, {}, {}, {}]\n",
      "UNT Libraries Special Collections\n",
      "https://dp.la/item/89baccf3dd32fc281576cee469ea0599\n",
      "\n",
      "'Students at Statue'\n",
      "[{'scheme': 'http://id.loc.gov/authorities#conceptscheme'}, {}, {}, {}, {}, {}, {}, {}]\n",
      "UNT Libraries Special Collections\n",
      "https://dp.la/item/00e3a0d4fea8688dccc68a80b27b2002\n",
      "\n",
      "See all results in DPLA:\n",
      "https://dp.la/search?q=Students&partner=%22The+Portal+to+Texas+History%22\n"
     ]
    }
   ],
   "source": [
    "#test to make sure that there were items found\n",
    "if result2.count == 0:\n",
    "    print(\"Sorry, no results found for \\'\"+random_subject+\"\\'.  Try again!\")\n",
    "\n",
    "else:\n",
    "    print(\"Here are some similar items about \\'\"+random_subject+\"\\':\")\n",
    "    \n",
    "    #pick three random numbers to get items\n",
    "    #caution: because it is random, it's possible that you'll end up getting the same number (and thus the same item) twice\n",
    "    if result2.count < 100:\n",
    "        itemA = random.randint(0,(result2.count-1))\n",
    "        itemB = random.randint(0,(result2.count-1))\n",
    "        itemC = random.randint(0,(result2.count-1))\n",
    "    else:\n",
    "        itemA = random.randint(0,99)\n",
    "        itemB = random.randint(0,99)\n",
    "        itemC = random.randint(0,99)\n",
    "    \n",
    "    #print(str(itemA),\"\",str(itemB),\"\",str(itemC)) #shows randomly chosen numbers - useful for testing\n",
    "    \n",
    "    #create list of those random item numbers\n",
    "    randItems = [itemA, itemB, itemC]\n",
    "    \n",
    "    #extract metadata for each of those randomly chosen items\n",
    "    for i in randItems:\n",
    "        title = result2.items[i][\"sourceResource\"][\"title\"]\n",
    "        title = str(title)[1:-1] #removes square brackets from title\n",
    "        identifier = result2.items[i][\"@id\"]\n",
    "        dataProvider = result2.items[i][\"dataProvider\"]\n",
    "        subjects = result2.items[i][\"sourceResource\"][\"subject\"]\n",
    "        url = \"https://dp.la/item/\" + result2.items[i][\"id\"]\n",
    "        \n",
    "        print(title)\n",
    "        print(dataProvider)\n",
    "        print(url)\n",
    "        print()\n",
    "    \n",
    "    print(\"See all results in DPLA:\")\n",
    "    print('https://dp.la/search?q='+random_subject.replace(\" \",\"+\")+'&partner=%22The+Portal+to+Texas+History%22')"
   ]
  },
  {
   "cell_type": "markdown",
   "id": "6d120432",
   "metadata": {},
   "source": [
    "And that's it!  Hope you found some interesting or unexpected results.\n",
    "\n",
    "* To get different items from your search query, re-run the last code cell that generates random item numbers and displays results.\n",
    "* If you want to get a different subject from your original item, re-run the cell the generates the \"random_subject\" variable.\n",
    "* If you'd like to try with a different item, go back up to the cell with the DPLA id input.  \n",
    "\n",
    "To get results from a DPLA partner other than the Portal to Texas History, change {\"provider\" : \"Portal to Texas History\"} to the name of another DPLA partner (https://dp.la/browse-by-partner)."
   ]
  }
 ],
 "metadata": {
  "celltoolbar": "Tags",
  "kernelspec": {
   "display_name": "Python 3 (ipykernel)",
   "language": "python",
   "name": "python3"
  },
  "language_info": {
   "codemirror_mode": {
    "name": "ipython",
    "version": 3
   },
   "file_extension": ".py",
   "mimetype": "text/x-python",
   "name": "python",
   "nbconvert_exporter": "python",
   "pygments_lexer": "ipython3",
   "version": "3.9.9"
  }
 },
 "nbformat": 4,
 "nbformat_minor": 5
}
