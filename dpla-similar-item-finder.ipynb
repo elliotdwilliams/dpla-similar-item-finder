{
 "cells": [
  {
   "cell_type": "markdown",
   "id": "8b44f170",
   "metadata": {},
   "source": [
    "# DPLA similar-item-finder 🕵️\n",
    "\n",
    "I wanted to play around with the idea of making connections between items from different providers in DPLA.  Because Texas currently has two pathways to DPLA, I thought it could be interesting to show the connections between the collections from each partner, and experiment with new kinds of serendipitous discovery in DPLA.  What if there was a way to take an item from one DPLA partner (like the Texas Digital Library) and find similar items from another partner (such as the Portal to Texas History)?\n",
    "\n",
    "This script uses the DPLA API to search for possibly similar items.  It asks for the ID for an item in DPLA, selects a random subject from that item, and then uses that subject term to search for possibly similar items.  I've scoped it to search specifically for items from the Portal to Texas History, but you can easily change that to another DPLA partner.\n",
    "\n",
    "It will return three randomly selected items, and also give you a link to see more in the DPLA portal.\n",
    "\n",
    "To run the code in this notebook, select each individual code block (outlined in grey), and press the &#x25B6; Run button at the top of the window (or press Shift + Enter on your keyboard). Each code block needs to be run in order for the code to work properly.  "
   ]
  },
  {
   "cell_type": "code",
   "execution_count": null,
   "id": "7e1e0054",
   "metadata": {},
   "outputs": [],
   "source": [
    "#import some packages we'll need\n",
    "import random\n",
    "\n",
    "import sys\n",
    "!{sys.executable} -m pip install dpla\n",
    "\n",
    "from dpla.api import DPLA"
   ]
  },
  {
   "cell_type": "code",
   "execution_count": null,
   "id": "3b4c10c0",
   "metadata": {},
   "outputs": [],
   "source": [
    "#create DPLA object for querying API using API key\n",
    "dpla = DPLA('9e772db07b96bf5971582a9e95d873ef')"
   ]
  },
  {
   "cell_type": "markdown",
   "id": "620dac31",
   "metadata": {},
   "source": [
    "The next step will ask you for the DPLA item ID for the item you'd like to start with.  Head over to https://dp.la and search for an item that you like!  If you want to look for items from Texas Digital Library for maximum Texas synchronicity, try looking here: https://dp.la/search?partner=%22Texas%20Digital%20Library%22\n",
    "\n",
    "When you find an item you like, you'll need to get the DPLA ID for that item.  The DPLA ID can be found in the item's URL, following 'https://dp.la/item/'.  For example, for the item 'https://dp.la/item/1894f57e382d6c0c3e9e92ae302ef319', the id is '1894f57e382d6c0c3e9e92ae302ef319'.  Copy that ID, run the next code block, paste the ID into the input box, and press Enter.\n",
    "\n",
    "After you input the item id, the next code block will fetch that record and print the title, to confirm it is the right record."
   ]
  },
  {
   "cell_type": "code",
   "execution_count": null,
   "id": "168dc332",
   "metadata": {},
   "outputs": [],
   "source": [
    "#get DPLA id from user input\n",
    "dplaid = input(\"DPLA item ID: \")"
   ]
  },
  {
   "cell_type": "code",
   "execution_count": null,
   "id": "099a4f55",
   "metadata": {},
   "outputs": [],
   "source": [
    "result = dpla.fetch_by_id([dplaid])\n",
    "\n",
    "#print item title, to confirm that request worked\n",
    "print(result.items[0][\"sourceResource\"][\"title\"])"
   ]
  },
  {
   "cell_type": "markdown",
   "id": "353d00aa",
   "metadata": {},
   "source": [
    "Okay, now we get to the good stuff! The next step is going to randomly extract one of the subjects from this item to use as a search query for similar items."
   ]
  },
  {
   "cell_type": "code",
   "execution_count": null,
   "id": "b4195189",
   "metadata": {},
   "outputs": [],
   "source": [
    "#create new object containing all of the subjects from fetched item\n",
    "subjects = result.items[0][\"sourceResource\"][\"subject\"]\n",
    "\n",
    "#get random integer within the number of subjects in record\n",
    "randA = random.randint(0,(len(subjects)-1))\n",
    "\n",
    "#use random integer to get subject term corresponding to it\n",
    "random_subject = subjects[randA][\"name\"]\n",
    "print(\"Searching for \\'\"+random_subject+\"\\'...\")"
   ]
  },
  {
   "cell_type": "markdown",
   "id": "74156056",
   "metadata": {},
   "source": [
    "Now, we're ready to search for similar items. The next cell will take the subject we selected above and search DPLA for items matching that subject that were contributed by the Portal to Texas History."
   ]
  },
  {
   "cell_type": "code",
   "execution_count": null,
   "id": "d9daea79",
   "metadata": {},
   "outputs": [],
   "source": [
    "#query DPLA API for items matching the random subject selected\n",
    "fields = {\"provider\" : \"Portal to Texas History\"}\n",
    "result2 = dpla.search(random_subject, searchFields=fields, page_size=100)\n",
    "\n",
    "print(\"Results found: \"+str(result2.count))"
   ]
  },
  {
   "cell_type": "markdown",
   "id": "f30d64d2",
   "metadata": {},
   "source": [
    "Now that we've queried the DPLA API, we're going to extract three random items from the results, and see what we found.\n",
    "(We only requested the first 100 items in the results, so if there are more than that, you'll need to go to DPLA to view the rest.)"
   ]
  },
  {
   "cell_type": "code",
   "execution_count": null,
   "id": "63e880b4",
   "metadata": {},
   "outputs": [],
   "source": [
    "#test to make sure that there were items found\n",
    "if result2.count == 0:\n",
    "    print(\"Sorry, no results found for \\'\"+random_subject+\"\\'.  Try again!\")\n",
    "\n",
    "else:\n",
    "    print(\"Here are some similar items about \\'\"+random_subject+\"\\':\")\n",
    "    \n",
    "    #pick three random numbers to get items\n",
    "    #caution: because it is random, it's possible that you'll end up getting the same number (and thus the same item) twice\n",
    "    if result2.count < 100:\n",
    "        itemA = random.randint(0,(result2.count-1))\n",
    "        itemB = random.randint(0,(result2.count-1))\n",
    "        itemC = random.randint(0,(result2.count-1))\n",
    "    else:\n",
    "        itemA = random.randint(0,99)\n",
    "        itemB = random.randint(0,99)\n",
    "        itemC = random.randint(0,99)\n",
    "    \n",
    "    #print(str(itemA),\"\",str(itemB),\"\",str(itemC)) #shows randomly chosen numbers - useful for testing\n",
    "    \n",
    "    #create list of those random item numbers\n",
    "    randItems = [itemA, itemB, itemC]\n",
    "    \n",
    "    #extract metadata for each of those randomly chosen items\n",
    "    for i in randItems:\n",
    "        title = result2.items[i][\"sourceResource\"][\"title\"]\n",
    "        title = str(title)[1:-1] #removes square brackets from title\n",
    "        identifier = result2.items[i][\"@id\"]\n",
    "        dataProvider = result2.items[i][\"dataProvider\"]\n",
    "        subjects = result2.items[i][\"sourceResource\"][\"subject\"]\n",
    "        url = \"https://dp.la/item/\" + result2.items[i][\"id\"]\n",
    "        \n",
    "        print(title)\n",
    "        print(dataProvider)\n",
    "        print(url)\n",
    "        print()\n",
    "    \n",
    "    print(\"See all results in DPLA:\")\n",
    "    print('https://dp.la/search?q='+random_subject.replace(\" \",\"+\")+'&partner=%22The+Portal+to+Texas+History%22')"
   ]
  },
  {
   "cell_type": "markdown",
   "id": "6d120432",
   "metadata": {},
   "source": [
    "And that's it!  Hope you found some interesting or unexpected results.\n",
    "\n",
    "* To get different items from your search query, re-run the last code cell that generates random item numbers and displays results.\n",
    "* If you want to get a different subject from your original item, re-run the cell the generates the \"random_subject\" variable.\n",
    "* If you'd like to try with a different item, go back up to the cell with the DPLA id input.  \n",
    "\n",
    "To get results from a DPLA partner other than the Portal to Texas History, change {\"provider\" : \"Portal to Texas History\"} in the 6th code block to the name of another [DPLA partner](https://dp.la/browse-by-partner)."
   ]
  }
 ],
 "metadata": {
  "celltoolbar": "Tags",
  "kernelspec": {
   "display_name": "Python 3 (ipykernel)",
   "language": "python",
   "name": "python3"
  },
  "language_info": {
   "codemirror_mode": {
    "name": "ipython",
    "version": 3
   },
   "file_extension": ".py",
   "mimetype": "text/x-python",
   "name": "python",
   "nbconvert_exporter": "python",
   "pygments_lexer": "ipython3",
   "version": "3.9.9"
  }
 },
 "nbformat": 4,
 "nbformat_minor": 5
}
